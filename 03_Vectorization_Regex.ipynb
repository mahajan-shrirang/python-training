{
  "cells": [
    {
      "cell_type": "markdown",
      "metadata": {
        "id": "6EmtEtObJIhx"
      },
      "source": [
        "# REGEX - Regular expressions\n",
        "\n"
      ]
    },
    {
      "cell_type": "code",
      "execution_count": 1,
      "metadata": {
        "id": "seONGec8DtM4"
      },
      "outputs": [],
      "source": [
        "import re\n",
        "import pandas as pd\n",
        "import time"
      ]
    },
    {
      "cell_type": "code",
      "execution_count": 2,
      "metadata": {
        "id": "TsquDAHdJsHa"
      },
      "outputs": [],
      "source": [
        "text = \"The quick brown fox jumps over the lazy dog. The dog barks.\""
      ]
    },
    {
      "cell_type": "code",
      "execution_count": 3,
      "metadata": {
        "colab": {
          "base_uri": "https://localhost:8080/"
        },
        "id": "nEQ8DcujJywj",
        "outputId": "acadd873-c147-49fb-b081-3528c2c33de9"
      },
      "outputs": [
        {
          "name": "stdout",
          "output_type": "stream",
          "text": [
            "['brown', 'fox', 'over', 'dog', 'dog']\n"
          ]
        }
      ],
      "source": [
        "# 1. Find all occurrences of words containing \"o\"\n",
        "\n",
        "words_with_o = re.findall(r'\\b\\w*o\\w*\\b', text)\n",
        "print(words_with_o)"
      ]
    },
    {
      "cell_type": "code",
      "execution_count": 5,
      "metadata": {
        "colab": {
          "base_uri": "https://localhost:8080/"
        },
        "id": "pvS1p3_fJ7qk",
        "outputId": "98e1b6a8-a6b4-43f7-85c9-15d78bddbc56"
      },
      "outputs": [
        {
          "name": "stdout",
          "output_type": "stream",
          "text": [
            "Found 'dog' at position: 40\n"
          ]
        }
      ],
      "source": [
        "# 2.Search for the first occurrence of \"dog\"\n",
        "match = re.search(r'\\bdog\\b', text)\n",
        "if match:\n",
        "    print(\"Found 'dog' at position:\", match.start())\n",
        "else:\n",
        "    print(\"No match found.\")"
      ]
    },
    {
      "cell_type": "code",
      "execution_count": 6,
      "metadata": {},
      "outputs": [
        {
          "data": {
            "text/plain": [
              "<re.Match object; span=(40, 43), match='dog'>"
            ]
          },
          "execution_count": 6,
          "metadata": {},
          "output_type": "execute_result"
        }
      ],
      "source": [
        "match"
      ]
    },
    {
      "cell_type": "code",
      "execution_count": 7,
      "metadata": {
        "colab": {
          "base_uri": "https://localhost:8080/"
        },
        "id": "nlFiv-SRKBLm",
        "outputId": "074cb3a2-f54a-4bcb-df4f-58b157b378bf"
      },
      "outputs": [
        {
          "name": "stdout",
          "output_type": "stream",
          "text": [
            "['The quick brown fox jumps over the lazy dog', ' The dog barks', '']\n"
          ]
        }
      ],
      "source": [
        "# 3. re.split(): Split the text into sentences\n",
        "sentences = re.split(r'\\.', text)\n",
        "print(sentences)"
      ]
    },
    {
      "cell_type": "code",
      "execution_count": 8,
      "metadata": {
        "colab": {
          "base_uri": "https://localhost:8080/"
        },
        "id": "dBbCElFPKKFb",
        "outputId": "20dc794c-c12a-4080-8dc1-3f6fefc72dba"
      },
      "outputs": [
        {
          "name": "stdout",
          "output_type": "stream",
          "text": [
            "The quick brown fox jumps over the lazy cat. The cat barks.\n"
          ]
        }
      ],
      "source": [
        "# 4. re.sub(): Replace \"dog\" with \"cat\"\n",
        "new_text = re.sub(r'\\bdog\\b', 'cat', text)\n",
        "print(new_text)"
      ]
    },
    {
      "cell_type": "markdown",
      "metadata": {
        "id": "cfBGSuA-KXGA"
      },
      "source": [
        "### Validating Indian Mobile Numbers:"
      ]
    },
    {
      "cell_type": "code",
      "execution_count": 10,
      "metadata": {
        "id": "mckhTPVxKYRn"
      },
      "outputs": [],
      "source": [
        "indian_mobile_pattern = r'^\\+91[789]\\d{9}$'"
      ]
    },
    {
      "cell_type": "code",
      "execution_count": 11,
      "metadata": {
        "colab": {
          "base_uri": "https://localhost:8080/"
        },
        "id": "Y0_eDKXrKmD9",
        "outputId": "f9bc9bf0-f34d-4507-cb4a-073b446b7f4a"
      },
      "outputs": [
        {
          "name": "stdout",
          "output_type": "stream",
          "text": [
            "+917890123456 is a valid Indian mobile number.\n",
            "+917654321098 is a valid Indian mobile number.\n",
            "+919876543210 is a valid Indian mobile number.\n",
            "+911234567890 is NOT a valid Indian mobile number.\n",
            "+9176543210 is NOT a valid Indian mobile number.\n",
            "+9187654321090 is NOT a valid Indian mobile number.\n"
          ]
        }
      ],
      "source": [
        "numbers = [\n",
        "        \"+917890123456\",\n",
        "        \"+917654321098\",\n",
        "        \"+919876543210\",\n",
        "        \"+911234567890\",  # Incorrect, starts with +91 but the next digit is not 7, 8, or 9\n",
        "        \"+9176543210\",    # Incorrect, does not have 10 digits after +91\n",
        "        \"+9187654321090\"  # Incorrect, has more than 10 digits after +91\n",
        "    ]\n",
        "\n",
        "for number in numbers:\n",
        "    if re.match(indian_mobile_pattern, number):\n",
        "        print(f\"{number} is a valid Indian mobile number.\")\n",
        "    else:\n",
        "        print(f\"{number} is NOT a valid Indian mobile number.\")\n"
      ]
    },
    {
      "cell_type": "markdown",
      "metadata": {
        "id": "Ieg3ioIfKpgN"
      },
      "source": [
        "Breaking Down the REGEX\n",
        "\n",
        "\n",
        "\n",
        "1.   Start of String (^): The ^ ensures that the phone number starts with +91.\n",
        "2. End of String (\\$): The $ ensures that the phone number ends after exactly 10 digits following +91.\n",
        "3.   \\+91: Matches \"+91\" (country code)\n",
        "4. [789]: Matches the digit 7, 8, or 9.\n",
        "5. \\d{9}: Matches exactly 9 digits.\n",
        "\n",
        "Validates whether each phone number matches the pattern of an Indian mobile number."
      ]
    },
    {
      "cell_type": "markdown",
      "metadata": {
        "id": "An2vbf8wLHvS"
      },
      "source": [
        "### Finding Domain from Website URL"
      ]
    },
    {
      "cell_type": "code",
      "execution_count": 12,
      "metadata": {
        "id": "elwP1HIlK-t5"
      },
      "outputs": [],
      "source": [
        "# Function to extract domain from a given row in the DataFrame\n",
        "def find_domain(row):\n",
        "    pattern = r'(https?://)?(www\\.)?([\\w-]+(\\.[a-z]{2,}){1,2})'\n",
        "\n",
        "    result = re.search(pattern, row['Description'])\n",
        "    return result.group(3)\n"
      ]
    },
    {
      "cell_type": "code",
      "execution_count": 13,
      "metadata": {},
      "outputs": [],
      "source": [
        "data = {\n",
        "        'Description': [\n",
        "            'Check out the latest news on https://www.bbc.com/news/world',\n",
        "            'Read our blog at http://blog.example.co.uk for more insights.',\n",
        "            'Visit our corporate site at https://www.corporate-site.com/about-us',\n",
        "            'For tech articles, see https://medium.com/tech-stories/article-1',\n",
        "            'Our portfolio is showcased at http://portfolio.mywork.net',\n",
        "            'Contact us via our page https://www.contact-page.org/contact',\n",
        "            'Latest updates available at https://updates.example.com',\n",
        "            'Watch videos on https://www.youtube-videos.io',\n",
        "            'Check out recipes on http://www.cooking-today.tv',\n",
        "            'Educational resources available at https://www.learn-more.edu/resources'\n",
        "        ]\n",
        "    }\n",
        "\n",
        "df = pd.DataFrame(data)"
      ]
    },
    {
      "cell_type": "code",
      "execution_count": 16,
      "metadata": {},
      "outputs": [
        {
          "data": {
            "text/html": [
              "<div>\n",
              "<style scoped>\n",
              "    .dataframe tbody tr th:only-of-type {\n",
              "        vertical-align: middle;\n",
              "    }\n",
              "\n",
              "    .dataframe tbody tr th {\n",
              "        vertical-align: top;\n",
              "    }\n",
              "\n",
              "    .dataframe thead th {\n",
              "        text-align: right;\n",
              "    }\n",
              "</style>\n",
              "<table border=\"1\" class=\"dataframe\">\n",
              "  <thead>\n",
              "    <tr style=\"text-align: right;\">\n",
              "      <th></th>\n",
              "      <th>Description</th>\n",
              "    </tr>\n",
              "  </thead>\n",
              "  <tbody>\n",
              "    <tr>\n",
              "      <th>0</th>\n",
              "      <td>Check out the latest news on https://www.bbc.c...</td>\n",
              "    </tr>\n",
              "    <tr>\n",
              "      <th>1</th>\n",
              "      <td>Read our blog at http://blog.example.co.uk for...</td>\n",
              "    </tr>\n",
              "    <tr>\n",
              "      <th>2</th>\n",
              "      <td>Visit our corporate site at https://www.corpor...</td>\n",
              "    </tr>\n",
              "    <tr>\n",
              "      <th>3</th>\n",
              "      <td>For tech articles, see https://medium.com/tech...</td>\n",
              "    </tr>\n",
              "    <tr>\n",
              "      <th>4</th>\n",
              "      <td>Our portfolio is showcased at http://portfolio...</td>\n",
              "    </tr>\n",
              "    <tr>\n",
              "      <th>5</th>\n",
              "      <td>Contact us via our page https://www.contact-pa...</td>\n",
              "    </tr>\n",
              "    <tr>\n",
              "      <th>6</th>\n",
              "      <td>Latest updates available at https://updates.ex...</td>\n",
              "    </tr>\n",
              "    <tr>\n",
              "      <th>7</th>\n",
              "      <td>Watch videos on https://www.youtube-videos.io</td>\n",
              "    </tr>\n",
              "    <tr>\n",
              "      <th>8</th>\n",
              "      <td>Check out recipes on http://www.cooking-today.tv</td>\n",
              "    </tr>\n",
              "    <tr>\n",
              "      <th>9</th>\n",
              "      <td>Educational resources available at https://www...</td>\n",
              "    </tr>\n",
              "  </tbody>\n",
              "</table>\n",
              "</div>"
            ],
            "text/plain": [
              "                                         Description\n",
              "0  Check out the latest news on https://www.bbc.c...\n",
              "1  Read our blog at http://blog.example.co.uk for...\n",
              "2  Visit our corporate site at https://www.corpor...\n",
              "3  For tech articles, see https://medium.com/tech...\n",
              "4  Our portfolio is showcased at http://portfolio...\n",
              "5  Contact us via our page https://www.contact-pa...\n",
              "6  Latest updates available at https://updates.ex...\n",
              "7      Watch videos on https://www.youtube-videos.io\n",
              "8   Check out recipes on http://www.cooking-today.tv\n",
              "9  Educational resources available at https://www..."
            ]
          },
          "execution_count": 16,
          "metadata": {},
          "output_type": "execute_result"
        }
      ],
      "source": [
        "df"
      ]
    },
    {
      "cell_type": "code",
      "execution_count": 17,
      "metadata": {},
      "outputs": [],
      "source": [
        "# df['Domain'] = df['Description'].apply(find_domain)\n",
        "df['Domain'] = df.apply(find_domain, axis=1)"
      ]
    },
    {
      "cell_type": "code",
      "execution_count": 18,
      "metadata": {},
      "outputs": [
        {
          "data": {
            "text/html": [
              "<div>\n",
              "<style scoped>\n",
              "    .dataframe tbody tr th:only-of-type {\n",
              "        vertical-align: middle;\n",
              "    }\n",
              "\n",
              "    .dataframe tbody tr th {\n",
              "        vertical-align: top;\n",
              "    }\n",
              "\n",
              "    .dataframe thead th {\n",
              "        text-align: right;\n",
              "    }\n",
              "</style>\n",
              "<table border=\"1\" class=\"dataframe\">\n",
              "  <thead>\n",
              "    <tr style=\"text-align: right;\">\n",
              "      <th></th>\n",
              "      <th>Description</th>\n",
              "      <th>Domain</th>\n",
              "    </tr>\n",
              "  </thead>\n",
              "  <tbody>\n",
              "    <tr>\n",
              "      <th>0</th>\n",
              "      <td>Check out the latest news on https://www.bbc.c...</td>\n",
              "      <td>bbc.com</td>\n",
              "    </tr>\n",
              "    <tr>\n",
              "      <th>1</th>\n",
              "      <td>Read our blog at http://blog.example.co.uk for...</td>\n",
              "      <td>blog.example.co</td>\n",
              "    </tr>\n",
              "    <tr>\n",
              "      <th>2</th>\n",
              "      <td>Visit our corporate site at https://www.corpor...</td>\n",
              "      <td>corporate-site.com</td>\n",
              "    </tr>\n",
              "    <tr>\n",
              "      <th>3</th>\n",
              "      <td>For tech articles, see https://medium.com/tech...</td>\n",
              "      <td>medium.com</td>\n",
              "    </tr>\n",
              "    <tr>\n",
              "      <th>4</th>\n",
              "      <td>Our portfolio is showcased at http://portfolio...</td>\n",
              "      <td>portfolio.mywork.net</td>\n",
              "    </tr>\n",
              "    <tr>\n",
              "      <th>5</th>\n",
              "      <td>Contact us via our page https://www.contact-pa...</td>\n",
              "      <td>contact-page.org</td>\n",
              "    </tr>\n",
              "    <tr>\n",
              "      <th>6</th>\n",
              "      <td>Latest updates available at https://updates.ex...</td>\n",
              "      <td>updates.example.com</td>\n",
              "    </tr>\n",
              "    <tr>\n",
              "      <th>7</th>\n",
              "      <td>Watch videos on https://www.youtube-videos.io</td>\n",
              "      <td>youtube-videos.io</td>\n",
              "    </tr>\n",
              "    <tr>\n",
              "      <th>8</th>\n",
              "      <td>Check out recipes on http://www.cooking-today.tv</td>\n",
              "      <td>cooking-today.tv</td>\n",
              "    </tr>\n",
              "    <tr>\n",
              "      <th>9</th>\n",
              "      <td>Educational resources available at https://www...</td>\n",
              "      <td>learn-more.edu</td>\n",
              "    </tr>\n",
              "  </tbody>\n",
              "</table>\n",
              "</div>"
            ],
            "text/plain": [
              "                                         Description                Domain\n",
              "0  Check out the latest news on https://www.bbc.c...               bbc.com\n",
              "1  Read our blog at http://blog.example.co.uk for...       blog.example.co\n",
              "2  Visit our corporate site at https://www.corpor...    corporate-site.com\n",
              "3  For tech articles, see https://medium.com/tech...            medium.com\n",
              "4  Our portfolio is showcased at http://portfolio...  portfolio.mywork.net\n",
              "5  Contact us via our page https://www.contact-pa...      contact-page.org\n",
              "6  Latest updates available at https://updates.ex...   updates.example.com\n",
              "7      Watch videos on https://www.youtube-videos.io     youtube-videos.io\n",
              "8   Check out recipes on http://www.cooking-today.tv      cooking-today.tv\n",
              "9  Educational resources available at https://www...        learn-more.edu"
            ]
          },
          "execution_count": 18,
          "metadata": {},
          "output_type": "execute_result"
        }
      ],
      "source": [
        "df"
      ]
    },
    {
      "cell_type": "code",
      "execution_count": 10,
      "metadata": {
        "id": "44VlrngjMB1G"
      },
      "outputs": [],
      "source": [
        "# Function to create a DataFrame and extract domains\n",
        "def func2():\n",
        "    data = {\n",
        "        'Description': [\n",
        "            'Check out the latest news on https://www.bbc.com/news/world',\n",
        "            'Read our blog at http://blog.example.co.uk for more insights.',\n",
        "            'Visit our corporate site at https://www.corporate-site.com/about-us',\n",
        "            'For tech articles, see https://medium.com/tech-stories/article-1',\n",
        "            'Our portfolio is showcased at http://portfolio.mywork.net',\n",
        "            'Contact us via our page https://www.contact-page.org/contact',\n",
        "            'Latest updates available at https://updates.example.com',\n",
        "            'Watch videos on https://www.youtube-videos.io',\n",
        "            'Check out recipes on http://www.cooking-today.tv',\n",
        "            'Educational resources available at https://www.learn-more.edu/resources'\n",
        "        ]\n",
        "    }\n",
        "\n",
        "    df = pd.DataFrame(data)\n",
        "\n",
        "    # Apply the function to extract domain names\n",
        "    df['Domain'] = df.apply(find_domain, axis=1)\n",
        "\n",
        "    print(df)\n"
      ]
    },
    {
      "cell_type": "code",
      "execution_count": 11,
      "metadata": {
        "colab": {
          "base_uri": "https://localhost:8080/"
        },
        "id": "w2d0nI3zMGxK",
        "outputId": "38385fa0-35ad-4fe2-b6d2-3af769c1c630"
      },
      "outputs": [
        {
          "name": "stdout",
          "output_type": "stream",
          "text": [
            "                                         Description                Domain\n",
            "0  Check out the latest news on https://www.bbc.c...               bbc.com\n",
            "1  Read our blog at http://blog.example.co.uk for...       blog.example.co\n",
            "2  Visit our corporate site at https://www.corpor...    corporate-site.com\n",
            "3  For tech articles, see https://medium.com/tech...            medium.com\n",
            "4  Our portfolio is showcased at http://portfolio...  portfolio.mywork.net\n",
            "5  Contact us via our page https://www.contact-pa...      contact-page.org\n",
            "6  Latest updates available at https://updates.ex...   updates.example.com\n",
            "7      Watch videos on https://www.youtube-videos.io     youtube-videos.io\n",
            "8   Check out recipes on http://www.cooking-today.tv      cooking-today.tv\n",
            "9  Educational resources available at https://www...        learn-more.edu\n"
          ]
        }
      ],
      "source": [
        "func2()"
      ]
    },
    {
      "cell_type": "markdown",
      "metadata": {
        "id": "bsO4vrp5NGDO"
      },
      "source": [
        "Understanding the Pattern\n",
        "\n",
        "1. (https?://)?: Optionally matches \"http://\" or \"https://\".\n",
        "2. (www\\.)?: Optionally matches \"www.\".\n",
        "3. ([\\w-]+(\\.[a-z]{2,}){1,2}): Matches the domain and its extensions."
      ]
    },
    {
      "cell_type": "markdown",
      "metadata": {
        "id": "uLNORpSCNFp6"
      },
      "source": [
        "# Vectorization"
      ]
    },
    {
      "cell_type": "code",
      "execution_count": 21,
      "metadata": {
        "id": "cLbTGMHzRD8e"
      },
      "outputs": [],
      "source": [
        "import numpy as np"
      ]
    },
    {
      "cell_type": "code",
      "execution_count": 22,
      "metadata": {
        "id": "GF9_P99nRLw6"
      },
      "outputs": [],
      "source": [
        "def add(a,b):\n",
        "  return a + b\n",
        "\n",
        "def func1():\n",
        "    \"\"\"\n",
        "    Vectorization using numpy\n",
        "    \"\"\"\n",
        "    # Create two arrays\n",
        "    a = np.array([10, 25, 29, 256])\n",
        "    b = np.array([5, 6, 7, 8])\n",
        "\n",
        "    # Add corresponding elements of two arrays\n",
        "    # broadcasting in numpy is also vectorization\n",
        "    addition = a + b\n",
        "    print(addition )\n",
        "\n",
        "    # find sqaure root\n",
        "    square_root = np.sqrt(a)\n",
        "    print(f\"Square Root: {square_root}\")\n",
        "\n",
        "    # find exponential of each element of the array\n",
        "    exponential = np.exp(b)\n",
        "    print(exponential)\n",
        "\n",
        "    # addition using vectorize\n",
        "    # The purpose of np.vectorize is to transform functions which are not\n",
        "    # numpy-aware (e.g. take floats as input and return floats as output)\n",
        "    # into functions that can operate on (and return) numpy arrays.\n",
        "    Vecfunc = np.vectorize(add,otypes=[float])\n",
        "    print(Vecfunc(1,8))\n"
      ]
    },
    {
      "cell_type": "code",
      "execution_count": 23,
      "metadata": {},
      "outputs": [
        {
          "name": "stdout",
          "output_type": "stream",
          "text": [
            "[ 15  31  36 264]\n",
            "Square Root: [ 3.16227766  5.          5.38516481 16.        ]\n",
            "[ 148.4131591   403.42879349 1096.63315843 2980.95798704]\n",
            "9.0\n"
          ]
        }
      ],
      "source": [
        "func1()"
      ]
    },
    {
      "cell_type": "code",
      "execution_count": 14,
      "metadata": {
        "id": "nfg2izuSRjO3"
      },
      "outputs": [],
      "source": [
        "def func2():\n",
        "    \"\"\"\n",
        "    Pandas vectorization\n",
        "    \"\"\"\n",
        "    # Create a Pandas DataFrame\n",
        "    df = pd.DataFrame({\n",
        "        'A': [1, 2, 3, 4],\n",
        "        'B': [5, 6, 7, 8],\n",
        "        'C': [9, 10, 11, 12]\n",
        "    })\n",
        "\n",
        "    \"\"\"\n",
        "    Internally, Pandas Series are often stored as NumPy arrays, in this\n",
        "    case arrays of floats. Pandas is smart enough to pass the operation\n",
        "    on to the underlying arrays. No slow Python code is involved in doing\n",
        "    the arithmetic.\n",
        "    \"\"\"\n",
        "    df['Sum'] = df['A'] + df['B']\n",
        "    print(df)\n",
        "\n",
        "\n",
        "\n",
        "    \"\"\"\n",
        "    In contrast, the non-vectorized method calls a Python function for every\n",
        "    row, and that Python function does additional operations.\n",
        "    Eventually this devolves into low-level multiplication and division,\n",
        "    but there is slow and expensive Python code being called repeatedly\n",
        "    for every single row.\n",
        "    \"\"\"\n",
        "\n",
        "    sentences = pd.Series([\n",
        "    \"This is a sample sentence.\",\n",
        "    \"Pandas is great for data manipulation.\",\n",
        "    \"Vectorization makes operations faster.\",\n",
        "    \"I love working with Python and Pandas.\"\n",
        "    ])\n",
        "\n",
        "    \"\"\"\n",
        "    Pandas provides a .str object on Series that lets you run\n",
        "    various vectorized operations on strings.\n",
        "    \"\"\"\n",
        "\n",
        "    word_counts = sentences.str.split().str.len()\n",
        "\n",
        "    # Create a new DataFrame to display the sentences and their word counts\n",
        "    sentence_word_counts = pd.DataFrame({\n",
        "        'Sentence': sentences,\n",
        "        'Word Count': word_counts\n",
        "    })\n",
        "\n",
        "\n",
        "    print(sentence_word_counts)"
      ]
    },
    {
      "cell_type": "code",
      "execution_count": 24,
      "metadata": {
        "colab": {
          "base_uri": "https://localhost:8080/"
        },
        "id": "dUHuPSWZRldk",
        "outputId": "51c369c8-5802-4066-ad5c-25a538a4a6e5"
      },
      "outputs": [
        {
          "name": "stdout",
          "output_type": "stream",
          "text": [
            "Occurrences using loop: 111665\n",
            "Execution time (loop): 172.830 milliseconds\n",
            "Occurrences using vectorized operation: 111665\n",
            "Execution time (vectorized): 1.988 milliseconds\n"
          ]
        }
      ],
      "source": [
        "def count_loop(X, target):\n",
        "    start_time = time.time()\n",
        "    count = sum(x == target for x in X[\"numbers\"])\n",
        "    end_time = time.time()\n",
        "    return count, (end_time - start_time) * 1000\n",
        "\n",
        "def count_vectorized(X, target):\n",
        "    start_time = time.time()\n",
        "    count = (X[\"numbers\"] == target).sum()\n",
        "    end_time = time.time()\n",
        "    return count, (end_time - start_time) * 1000\n",
        "\n",
        "def func3():\n",
        "\n",
        "    data = {'numbers': np.random.randint(1, 10, size=1000000)}\n",
        "\n",
        "    df = pd.DataFrame(data)\n",
        "\n",
        "    count_loop_result, loop_time = count_loop(df, 2)\n",
        "    print(\"Occurrences using loop:\", count_loop_result)\n",
        "    print(\"Execution time (loop): {:.3f} milliseconds\".format(loop_time))\n",
        "\n",
        "    # Perform counting with vectorized operation\n",
        "    count_vectorized_result, vectorized_time = count_vectorized(df, 2)\n",
        "    print(\"Occurrences using vectorized operation:\", count_vectorized_result)\n",
        "    print(\"Execution time (vectorized): {:.3f} milliseconds\".format(vectorized_time))\n",
        "\n",
        "    \"\"\"\n",
        "    In above code, count_loop() and count_vectorized(), both functions are\n",
        "    counting occurrence of a particular integer in data frame column.\n",
        "    by running code, it is seen that count_vectorized() function is getting\n",
        "    executed faster than ciunt_loop() because of vectorization\n",
        "    \"\"\"\n",
        "\n",
        "func3()"
      ]
    },
    {
      "cell_type": "code",
      "execution_count": null,
      "metadata": {},
      "outputs": [],
      "source": [
        "def func4():\n",
        "    data = {'Student': [f'Student_{i}' for i in range(1, 10)]}\n",
        "    df = pd.DataFrame(data)\n",
        "\n",
        "    print(df.head())\n",
        "\n",
        "\n",
        "func4()"
      ]
    }
  ],
  "metadata": {
    "colab": {
      "provenance": []
    },
    "kernelspec": {
      "display_name": "venv",
      "language": "python",
      "name": "python3"
    },
    "language_info": {
      "codemirror_mode": {
        "name": "ipython",
        "version": 3
      },
      "file_extension": ".py",
      "mimetype": "text/x-python",
      "name": "python",
      "nbconvert_exporter": "python",
      "pygments_lexer": "ipython3",
      "version": "3.11.9"
    }
  },
  "nbformat": 4,
  "nbformat_minor": 0
}
